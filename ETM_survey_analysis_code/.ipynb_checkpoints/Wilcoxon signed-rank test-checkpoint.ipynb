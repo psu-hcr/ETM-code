{
 "cells": [
  {
   "cell_type": "code",
   "execution_count": 7,
   "id": "e67a2b29",
   "metadata": {},
   "outputs": [],
   "source": [
    "import pandas as pd\n",
    "import scipy.stats as stats"
   ]
  },
  {
   "cell_type": "code",
   "execution_count": 8,
   "id": "250f70a6",
   "metadata": {},
   "outputs": [],
   "source": [
    "data = pd.read_csv(r'D:\\ETM\\Testing data\\Aug17th\\paired result.csv')"
   ]
  },
  {
   "cell_type": "code",
   "execution_count": 9,
   "id": "0b905dca",
   "metadata": {},
   "outputs": [
    {
     "data": {
      "text/plain": [
       "WilcoxonResult(statistic=0.0, pvalue=0.125)"
      ]
     },
     "execution_count": 9,
     "metadata": {},
     "output_type": "execute_result"
    }
   ],
   "source": [
    "stats.wilcoxon(data['Q1pre'],data['Q1post'])"
   ]
  },
  {
   "cell_type": "code",
   "execution_count": 10,
   "id": "c9f85b6b",
   "metadata": {},
   "outputs": [
    {
     "name": "stderr",
     "output_type": "stream",
     "text": [
      "D:\\Anaconda\\lib\\site-packages\\scipy\\stats\\morestats.py:3141: UserWarning: Exact p-value calculation does not work if there are ties. Switching to normal approximation.\n",
      "  warnings.warn(\"Exact p-value calculation does not work if there are \"\n",
      "D:\\Anaconda\\lib\\site-packages\\scipy\\stats\\morestats.py:3155: UserWarning: Sample size too small for normal approximation.\n",
      "  warnings.warn(\"Sample size too small for normal approximation.\")\n"
     ]
    },
    {
     "data": {
      "text/plain": [
       "WilcoxonResult(statistic=0.0, pvalue=0.10247043485974937)"
      ]
     },
     "execution_count": 10,
     "metadata": {},
     "output_type": "execute_result"
    }
   ],
   "source": [
    "stats.wilcoxon(data['Q2pre'],data['Q2post'])"
   ]
  },
  {
   "cell_type": "code",
   "execution_count": 11,
   "id": "1c1764a3",
   "metadata": {},
   "outputs": [
    {
     "data": {
      "text/plain": [
       "WilcoxonResult(statistic=0.0, pvalue=0.125)"
      ]
     },
     "execution_count": 11,
     "metadata": {},
     "output_type": "execute_result"
    }
   ],
   "source": [
    "stats.wilcoxon(data['Q3pre'],data['Q3post'])"
   ]
  },
  {
   "cell_type": "code",
   "execution_count": 12,
   "id": "c37ff2a1",
   "metadata": {},
   "outputs": [
    {
     "data": {
      "text/plain": [
       "WilcoxonResult(statistic=0.0, pvalue=0.0832645166635504)"
      ]
     },
     "execution_count": 12,
     "metadata": {},
     "output_type": "execute_result"
    }
   ],
   "source": [
    "stats.wilcoxon(data['Q4pre'],data['Q4post'])"
   ]
  },
  {
   "cell_type": "code",
   "execution_count": 13,
   "id": "ea676536",
   "metadata": {},
   "outputs": [
    {
     "data": {
      "text/plain": [
       "WilcoxonResult(statistic=0.0, pvalue=0.125)"
      ]
     },
     "execution_count": 13,
     "metadata": {},
     "output_type": "execute_result"
    }
   ],
   "source": [
    "stats.wilcoxon(data['Q5pre'],data['Q5post'])"
   ]
  },
  {
   "cell_type": "code",
   "execution_count": 14,
   "id": "a26261cc",
   "metadata": {},
   "outputs": [
    {
     "data": {
      "text/plain": [
       "WilcoxonResult(statistic=0.0, pvalue=0.125)"
      ]
     },
     "execution_count": 14,
     "metadata": {},
     "output_type": "execute_result"
    }
   ],
   "source": [
    "stats.wilcoxon(data['Q6pre'],data['Q6post'])"
   ]
  },
  {
   "cell_type": "code",
   "execution_count": 15,
   "id": "c9a07fa1",
   "metadata": {},
   "outputs": [
    {
     "data": {
      "text/plain": [
       "WilcoxonResult(statistic=0.0, pvalue=0.125)"
      ]
     },
     "execution_count": 15,
     "metadata": {},
     "output_type": "execute_result"
    }
   ],
   "source": [
    "stats.wilcoxon(data['Q7pre'],data['Q7post'])"
   ]
  },
  {
   "cell_type": "code",
   "execution_count": 16,
   "id": "94f6e215",
   "metadata": {},
   "outputs": [
    {
     "data": {
      "text/plain": [
       "WilcoxonResult(statistic=0.0, pvalue=0.125)"
      ]
     },
     "execution_count": 16,
     "metadata": {},
     "output_type": "execute_result"
    }
   ],
   "source": [
    "stats.wilcoxon(data['Q8pre'],data['Q8post'])"
   ]
  },
  {
   "cell_type": "code",
   "execution_count": 17,
   "id": "6e0fab52",
   "metadata": {},
   "outputs": [
    {
     "data": {
      "text/plain": [
       "WilcoxonResult(statistic=1.5, pvalue=0.25)"
      ]
     },
     "execution_count": 17,
     "metadata": {},
     "output_type": "execute_result"
    }
   ],
   "source": [
    "stats.wilcoxon(data['Q9pre'],data['Q9post'])"
   ]
  },
  {
   "cell_type": "code",
   "execution_count": 18,
   "id": "40ccd42d",
   "metadata": {},
   "outputs": [
    {
     "data": {
      "text/plain": [
       "WilcoxonResult(statistic=0.0, pvalue=0.125)"
      ]
     },
     "execution_count": 18,
     "metadata": {},
     "output_type": "execute_result"
    }
   ],
   "source": [
    "stats.wilcoxon(data['Q10pre'],data['Q10post'])"
   ]
  },
  {
   "cell_type": "code",
   "execution_count": 19,
   "id": "41aac8c8",
   "metadata": {},
   "outputs": [
    {
     "data": {
      "text/plain": [
       "WilcoxonResult(statistic=0.0, pvalue=0.125)"
      ]
     },
     "execution_count": 19,
     "metadata": {},
     "output_type": "execute_result"
    }
   ],
   "source": [
    "stats.wilcoxon(data['Q11pre'],data['Q11post'])"
   ]
  },
  {
   "cell_type": "code",
   "execution_count": 20,
   "id": "a81b1b7a",
   "metadata": {},
   "outputs": [
    {
     "data": {
      "text/plain": [
       "WilcoxonResult(statistic=0.0, pvalue=0.125)"
      ]
     },
     "execution_count": 20,
     "metadata": {},
     "output_type": "execute_result"
    }
   ],
   "source": [
    "stats.wilcoxon(data['Q12pre'],data['Q12post'])"
   ]
  },
  {
   "cell_type": "code",
   "execution_count": 21,
   "id": "633e20de",
   "metadata": {},
   "outputs": [
    {
     "data": {
      "text/plain": [
       "WilcoxonResult(statistic=0.0, pvalue=0.125)"
      ]
     },
     "execution_count": 21,
     "metadata": {},
     "output_type": "execute_result"
    }
   ],
   "source": [
    "stats.wilcoxon(data['Q13pre'],data['Q13post'])"
   ]
  },
  {
   "cell_type": "code",
   "execution_count": 22,
   "id": "35bf863c",
   "metadata": {},
   "outputs": [
    {
     "data": {
      "text/plain": [
       "WilcoxonResult(statistic=0.0, pvalue=0.125)"
      ]
     },
     "execution_count": 22,
     "metadata": {},
     "output_type": "execute_result"
    }
   ],
   "source": [
    "stats.wilcoxon(data['Q14pre'],data['Q14post'])"
   ]
  },
  {
   "cell_type": "code",
   "execution_count": null,
   "id": "846072e8",
   "metadata": {},
   "outputs": [],
   "source": [
    "stats.wilcoxon(data['Q15pre'],data['Q15post'])"
   ]
  }
 ],
 "metadata": {
  "kernelspec": {
   "display_name": "Python 3 (ipykernel)",
   "language": "python",
   "name": "python3"
  },
  "language_info": {
   "codemirror_mode": {
    "name": "ipython",
    "version": 3
   },
   "file_extension": ".py",
   "mimetype": "text/x-python",
   "name": "python",
   "nbconvert_exporter": "python",
   "pygments_lexer": "ipython3",
   "version": "3.9.12"
  }
 },
 "nbformat": 4,
 "nbformat_minor": 5
}
